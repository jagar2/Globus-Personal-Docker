{
 "cells": [
  {
   "cell_type": "code",
   "execution_count": 1,
   "metadata": {},
   "outputs": [],
   "source": [
    "from datafed.CommandLib import API"
   ]
  },
  {
   "cell_type": "code",
   "execution_count": 5,
   "metadata": {},
   "outputs": [],
   "source": [
    "datafed = API()\n",
    "\n",
    "datafed.loginByPassword(\"jca318\", \"Yoda6970!!\")"
   ]
  },
  {
   "cell_type": "code",
   "execution_count": 8,
   "metadata": {},
   "outputs": [],
   "source": [
    "datafed.getAuthUser()"
   ]
  },
  {
   "cell_type": "code",
   "execution_count": 9,
   "metadata": {},
   "outputs": [],
   "source": [
    "datafed.logout()"
   ]
  },
  {
   "cell_type": "code",
   "execution_count": 10,
   "metadata": {},
   "outputs": [
    {
     "name": "stdout",
     "output_type": "stream",
     "text": [
      "(item {\n",
      "  id: \"p/2021_berkeley_pfm_database\"\n",
      "  title: \"2021_Berkeley_PFM_Database\"\n",
      "  owner: \"u/jca318\"\n",
      "}\n",
      "item {\n",
      "  id: \"p/2021_lane_martin_afm_database\"\n",
      "  title: \"2021_Lane_Martin_AFM_Database\"\n",
      "  owner: \"u/jca318\"\n",
      "}\n",
      "item {\n",
      "  id: \"p/2021_lehigh_cornell_tem\"\n",
      "  title: \"2021_Lehigh_Cornell_TEM\"\n",
      "  owner: \"u/jca318\"\n",
      "}\n",
      "item {\n",
      "  id: \"p/2021_lehigh_wallpaper_group_symmetry\"\n",
      "  title: \"2021_Lehigh_Wallpaper_Group_Symmetry\"\n",
      "  owner: \"u/jca318\"\n",
      "}\n",
      "item {\n",
      "  id: \"p/2022_4dtem_noisy_benchmark\"\n",
      "  title: \"2022_TEM_Noisy_Benchmark\"\n",
      "  owner: \"u/jca318\"\n",
      "}\n",
      "item {\n",
      "  id: \"p/2022_afm_oxford\"\n",
      "  title: \"AFM Repository Oxford Instruments\"\n",
      "  owner: \"u/jca318\"\n",
      "}\n",
      "item {\n",
      "  id: \"p/2022_datafed_tutorial_lehigh\"\n",
      "  title: \"2022_DataFed_Tutorial_Lehigh\"\n",
      "  owner: \"u/jca318\"\n",
      "}\n",
      "item {\n",
      "  id: \"p/2022_materials_project\"\n",
      "  title: \"Materials Project Piezoresponse\"\n",
      "  owner: \"u/jca318\"\n",
      "}\n",
      "item {\n",
      "  id: \"p/2022_pld_plume_recording\"\n",
      "  title: \"2022_PLD_Plume_Recording\"\n",
      "  owner: \"u/yig319\"\n",
      "  creator: \"u/jca318\"\n",
      "}\n",
      "item {\n",
      "  id: \"p/2023_4dstem\"\n",
      "  title: \"2023_4DSTEM\"\n",
      "  owner: \"u/jca318\"\n",
      "}\n",
      "item {\n",
      "  id: \"p/2023_4dstem_2\"\n",
      "  title: \"2023_4DSTEM_2\"\n",
      "  owner: \"u/jca318\"\n",
      "}\n",
      "item {\n",
      "  id: \"p/2023_afm_cypher\"\n",
      "  title: \"2023_AFM_Cypher\"\n",
      "  owner: \"u/yig319\"\n",
      "  creator: \"u/jca318\"\n",
      "}\n",
      "item {\n",
      "  id: \"p/2023_datafed_test\"\n",
      "  title: \"2023_DataFed_Test\"\n",
      "  owner: \"u/jca318\"\n",
      "}\n",
      "item {\n",
      "  id: \"p/2023_mem680t\"\n",
      "  title: \"2023_MEM680T\"\n",
      "  owner: \"u/jca318\"\n",
      "}\n",
      "item {\n",
      "  id: \"p/2023_michigan_rheed\"\n",
      "  title: \"2023_Michigan_RHEED\"\n",
      "  owner: \"u/jca318\"\n",
      "}\n",
      "item {\n",
      "  id: \"p/2023_noisy_simulated_4d_stem\"\n",
      "  title: \"2023_Noisy_Simulated_4D_STEM\"\n",
      "  owner: \"u/jca318\"\n",
      "}\n",
      "item {\n",
      "  id: \"p/2023_nw_nanoparticles\"\n",
      "  title: \"2023_NW_Nanoparticles\"\n",
      "  owner: \"u/jca318\"\n",
      "}\n",
      "item {\n",
      "  id: \"p/2023_pld_plume\"\n",
      "  title: \"2023_PLD_Plume\"\n",
      "  owner: \"u/yig319\"\n",
      "  creator: \"u/jca318\"\n",
      "}\n",
      "item {\n",
      "  id: \"p/2023_rheed\"\n",
      "  title: \"2023_RHEED\"\n",
      "  owner: \"u/yig319\"\n",
      "  creator: \"u/jca318\"\n",
      "}\n",
      "item {\n",
      "  id: \"p/2023_stem_nw\"\n",
      "  title: \"2023_STEM_NW\"\n",
      "  owner: \"u/jca318\"\n",
      "}\n",
      "offset: 0\n",
      "count: 20\n",
      "total: 39\n",
      ", 'ListingReply')\n"
     ]
    }
   ],
   "source": [
    "pl_resp = datafed.projectList()\n",
    "print(pl_resp)"
   ]
  },
  {
   "cell_type": "code",
   "execution_count": null,
   "metadata": {},
   "outputs": [],
   "source": []
  }
 ],
 "metadata": {
  "kernelspec": {
   "display_name": "datafed_globus",
   "language": "python",
   "name": "python3"
  },
  "language_info": {
   "codemirror_mode": {
    "name": "ipython",
    "version": 3
   },
   "file_extension": ".py",
   "mimetype": "text/x-python",
   "name": "python",
   "nbconvert_exporter": "python",
   "pygments_lexer": "ipython3",
   "version": "3.1.undefined"
  }
 },
 "nbformat": 4,
 "nbformat_minor": 2
}
